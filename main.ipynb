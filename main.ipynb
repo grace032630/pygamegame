{
 "cells": [
  {
   "cell_type": "code",
   "execution_count": 1,
   "metadata": {},
   "outputs": [
    {
     "name": "stdout",
     "output_type": "stream",
     "text": [
      "Collecting pygame\n",
      "  Downloading pygame-2.1.2-cp37-cp37m-win_amd64.whl (8.4 MB)\n",
      "Installing collected packages: pygame\n",
      "Successfully installed pygame-2.1.2\n",
      "Note: you may need to restart the kernel to use updated packages.\n"
     ]
    },
    {
     "name": "stderr",
     "output_type": "stream",
     "text": [
      "WARNING: Ignoring invalid distribution -umpy (d:\\anaconda\\envs\\gpu\\lib\\site-packages)\n",
      "WARNING: Ignoring invalid distribution -pencv-python (d:\\anaconda\\envs\\gpu\\lib\\site-packages)\n",
      "WARNING: Ignoring invalid distribution -illow (d:\\anaconda\\envs\\gpu\\lib\\site-packages)\n",
      "WARNING: Ignoring invalid distribution -umpy (d:\\anaconda\\envs\\gpu\\lib\\site-packages)\n",
      "WARNING: Ignoring invalid distribution -pencv-python (d:\\anaconda\\envs\\gpu\\lib\\site-packages)\n",
      "WARNING: Ignoring invalid distribution -illow (d:\\anaconda\\envs\\gpu\\lib\\site-packages)\n",
      "WARNING: Ignoring invalid distribution -umpy (d:\\anaconda\\envs\\gpu\\lib\\site-packages)\n",
      "WARNING: Ignoring invalid distribution -pencv-python (d:\\anaconda\\envs\\gpu\\lib\\site-packages)\n",
      "WARNING: Ignoring invalid distribution -illow (d:\\anaconda\\envs\\gpu\\lib\\site-packages)\n",
      "WARNING: Ignoring invalid distribution -umpy (d:\\anaconda\\envs\\gpu\\lib\\site-packages)\n",
      "WARNING: Ignoring invalid distribution -pencv-python (d:\\anaconda\\envs\\gpu\\lib\\site-packages)\n",
      "WARNING: Ignoring invalid distribution -illow (d:\\anaconda\\envs\\gpu\\lib\\site-packages)\n",
      "WARNING: Ignoring invalid distribution -umpy (d:\\anaconda\\envs\\gpu\\lib\\site-packages)\n",
      "WARNING: Ignoring invalid distribution -pencv-python (d:\\anaconda\\envs\\gpu\\lib\\site-packages)\n",
      "WARNING: Ignoring invalid distribution -illow (d:\\anaconda\\envs\\gpu\\lib\\site-packages)\n",
      "WARNING: Ignoring invalid distribution -umpy (d:\\anaconda\\envs\\gpu\\lib\\site-packages)\n",
      "WARNING: Ignoring invalid distribution -pencv-python (d:\\anaconda\\envs\\gpu\\lib\\site-packages)\n",
      "WARNING: Ignoring invalid distribution -illow (d:\\anaconda\\envs\\gpu\\lib\\site-packages)\n",
      "WARNING: Ignoring invalid distribution -umpy (d:\\anaconda\\envs\\gpu\\lib\\site-packages)\n",
      "WARNING: Ignoring invalid distribution -pencv-python (d:\\anaconda\\envs\\gpu\\lib\\site-packages)\n",
      "WARNING: Ignoring invalid distribution -illow (d:\\anaconda\\envs\\gpu\\lib\\site-packages)\n"
     ]
    }
   ],
   "source": [
    "pip install pygame"
   ]
  },
  {
   "cell_type": "code",
   "execution_count": 2,
   "metadata": {
    "scrolled": true
   },
   "outputs": [
    {
     "name": "stderr",
     "output_type": "stream",
     "text": [
      "D:\\Anaconda\\envs\\gpu\\lib\\site-packages\\numpy\\_distributor_init.py:32: UserWarning: loaded more than 1 DLL from .libs:\n",
      "D:\\Anaconda\\envs\\gpu\\lib\\site-packages\\numpy\\.libs\\libopenblas.4SP5SUA7CBGXUEOC35YP2ASOICYYEQZZ.gfortran-win_amd64.dll\n",
      "D:\\Anaconda\\envs\\gpu\\lib\\site-packages\\numpy\\.libs\\libopenblas.PYQHXLVVQ7VESDPUVUADXEVJOBGHJPAY.gfortran-win_amd64.dll\n",
      "D:\\Anaconda\\envs\\gpu\\lib\\site-packages\\numpy\\.libs\\libopenblas.XWYDX2IKJW2NMTWSFYNGFUWKQU3LYTCZ.gfortran-win_amd64.dll\n",
      "  stacklevel=1)\n"
     ]
    },
    {
     "name": "stdout",
     "output_type": "stream",
     "text": [
      "pygame 2.1.2 (SDL 2.0.18, Python 3.7.11)\n",
      "Hello from the pygame community. https://www.pygame.org/contribute.html\n",
      "[<enemy.enemies2.Enemy object at 0x000001DBE453CB08>, <enemy.enemies2.Enemy object at 0x000001DBE453CA48>, <enemy.enemies2.Enemy object at 0x000001DBE453C988>, <enemy.enemies2.Enemy object at 0x000001DBE453C8C8>]\n",
      "[<enemy.enemies2.Enemy object at 0x000001DBE453CA48>, <enemy.enemies2.Enemy object at 0x000001DBE453C988>, <enemy.enemies2.Enemy object at 0x000001DBE453C8C8>, <enemy.enemies2.Enemy object at 0x000001DBE453C808>, <enemy.enemies2.Enemy object at 0x000001DBE453C748>]\n",
      "[<enemy.enemies2.Enemy object at 0x000001DBE453CA48>, <enemy.enemies2.Enemy object at 0x000001DBE453C8C8>, <enemy.enemies2.Enemy object at 0x000001DBE453C808>, <enemy.enemies2.Enemy object at 0x000001DBE453C748>, <enemy.enemies2.Enemy object at 0x000001DBE453C688>, <enemy.enemies2.Enemy object at 0x000001DBE453C5C8>, <enemy.enemies2.Enemy object at 0x000001DBE453C508>]\n",
      "[<enemy.enemies2.Enemy object at 0x000001DBE453C8C8>, <enemy.enemies2.Enemy object at 0x000001DBE453C808>, <enemy.enemies2.Enemy object at 0x000001DBE453C748>, <enemy.enemies2.Enemy object at 0x000001DBE453C688>, <enemy.enemies2.Enemy object at 0x000001DBE453C5C8>, <enemy.enemies2.Enemy object at 0x000001DBE453C508>, <enemy.enemies2.Enemy object at 0x000001DBE453C448>, <enemy.enemies2.Enemy object at 0x000001DBE453C388>]\n",
      "[<enemy.enemies2.Enemy object at 0x000001DBE453C808>, <enemy.enemies2.Enemy object at 0x000001DBE453C748>, <enemy.enemies2.Enemy object at 0x000001DBE453C688>, <enemy.enemies2.Enemy object at 0x000001DBE453C5C8>, <enemy.enemies2.Enemy object at 0x000001DBE453C508>, <enemy.enemies2.Enemy object at 0x000001DBE453C448>, <enemy.enemies2.Enemy object at 0x000001DBE453C388>, <enemy.enemies2.Enemy object at 0x000001DBE453C2C8>]\n",
      "[<enemy.enemies2.Enemy object at 0x000001DBE453C748>, <enemy.enemies2.Enemy object at 0x000001DBE453C688>, <enemy.enemies2.Enemy object at 0x000001DBE453C5C8>, <enemy.enemies2.Enemy object at 0x000001DBE453C508>, <enemy.enemies2.Enemy object at 0x000001DBE453C448>, <enemy.enemies2.Enemy object at 0x000001DBE453C388>, <enemy.enemies2.Enemy object at 0x000001DBE453C2C8>, <enemy.enemies2.Enemy object at 0x000001DBE453C208>]\n",
      "[<enemy.enemies2.Enemy object at 0x000001DBE453C688>, <enemy.enemies2.Enemy object at 0x000001DBE453C5C8>, <enemy.enemies2.Enemy object at 0x000001DBE453C508>, <enemy.enemies2.Enemy object at 0x000001DBE453C448>, <enemy.enemies2.Enemy object at 0x000001DBE453C388>, <enemy.enemies2.Enemy object at 0x000001DBE453C2C8>, <enemy.enemies2.Enemy object at 0x000001DBE453C208>]\n",
      "[<enemy.enemies2.Enemy object at 0x000001DBE453C5C8>, <enemy.enemies2.Enemy object at 0x000001DBE453C508>, <enemy.enemies2.Enemy object at 0x000001DBE453C448>, <enemy.enemies2.Enemy object at 0x000001DBE453C388>, <enemy.enemies2.Enemy object at 0x000001DBE453C2C8>, <enemy.enemies2.Enemy object at 0x000001DBE453C208>, <enemy.enemies2.Enemy object at 0x000001DBE453C148>]\n",
      "[<enemy.enemies2.Enemy object at 0x000001DBE453C508>, <enemy.enemies2.Enemy object at 0x000001DBE453C448>, <enemy.enemies2.Enemy object at 0x000001DBE453C388>, <enemy.enemies2.Enemy object at 0x000001DBE453C2C8>, <enemy.enemies2.Enemy object at 0x000001DBE453C208>, <enemy.enemies2.Enemy object at 0x000001DBE453C148>, <enemy.enemies2.Enemy object at 0x000001DBE453C0C8>]\n",
      "[<enemy.enemies2.Enemy object at 0x000001DBE453C508>, <enemy.enemies2.Enemy object at 0x000001DBE453C388>, <enemy.enemies2.Enemy object at 0x000001DBE453C2C8>, <enemy.enemies2.Enemy object at 0x000001DBE453C208>, <enemy.enemies2.Enemy object at 0x000001DBE453C148>, <enemy.enemies2.Enemy object at 0x000001DBE453C0C8>]\n",
      "[<enemy.enemies2.Enemy object at 0x000001DBE453C388>, <enemy.enemies2.Enemy object at 0x000001DBE453C2C8>, <enemy.enemies2.Enemy object at 0x000001DBE453C208>, <enemy.enemies2.Enemy object at 0x000001DBE453C148>, <enemy.enemies2.Enemy object at 0x000001DBE453C0C8>, <enemy.enemies2.Enemy object at 0x000001DBE4538F88>]\n",
      "[<enemy.enemies2.Enemy object at 0x000001DBE453C2C8>, <enemy.enemies2.Enemy object at 0x000001DBE453C208>, <enemy.enemies2.Enemy object at 0x000001DBE453C148>, <enemy.enemies2.Enemy object at 0x000001DBE453C0C8>, <enemy.enemies2.Enemy object at 0x000001DBE4538F88>, <enemy.enemies2.Enemy object at 0x000001DBE4538EC8>]\n",
      "[<enemy.enemies2.Enemy object at 0x000001DBE453C208>, <enemy.enemies2.Enemy object at 0x000001DBE453C148>, <enemy.enemies2.Enemy object at 0x000001DBE453C0C8>, <enemy.enemies2.Enemy object at 0x000001DBE4538F88>, <enemy.enemies2.Enemy object at 0x000001DBE4538EC8>]\n",
      "[<enemy.enemies2.Enemy object at 0x000001DBE453C208>, <enemy.enemies2.Enemy object at 0x000001DBE453C0C8>, <enemy.enemies2.Enemy object at 0x000001DBE4538F88>, <enemy.enemies2.Enemy object at 0x000001DBE4538EC8>, <enemy.enemies2.Enemy object at 0x000001DBE4538E08>]\n",
      "[<enemy.enemies2.Enemy object at 0x000001DBE453C208>, <enemy.enemies2.Enemy object at 0x000001DBE453C0C8>, <enemy.enemies2.Enemy object at 0x000001DBE4538EC8>, <enemy.enemies2.Enemy object at 0x000001DBE4538E08>, <enemy.enemies2.Enemy object at 0x000001DBE4538D48>]\n",
      "[<enemy.enemies2.Enemy object at 0x000001DBE453C0C8>, <enemy.enemies2.Enemy object at 0x000001DBE4538EC8>, <enemy.enemies2.Enemy object at 0x000001DBE4538E08>, <enemy.enemies2.Enemy object at 0x000001DBE4538D48>]\n",
      "[<enemy.enemies2.Enemy object at 0x000001DBE4538EC8>, <enemy.enemies2.Enemy object at 0x000001DBE4538E08>, <enemy.enemies2.Enemy object at 0x000001DBE4538D48>, <enemy.enemies2.Enemy object at 0x000001DBE4538C88>]\n",
      "[<enemy.enemies2.Enemy object at 0x000001DBE4538E08>, <enemy.enemies2.Enemy object at 0x000001DBE4538D48>, <enemy.enemies2.Enemy object at 0x000001DBE4538C88>, <enemy.enemies2.Enemy object at 0x000001DBE4538BC8>]\n",
      "[<enemy.enemies2.Enemy object at 0x000001DBE4538E08>, <enemy.enemies2.Enemy object at 0x000001DBE4538C88>, <enemy.enemies2.Enemy object at 0x000001DBE4538BC8>]\n",
      "[<enemy.enemies2.Enemy object at 0x000001DBE4538C88>, <enemy.enemies2.Enemy object at 0x000001DBE4538BC8>, <enemy.enemies2.Enemy object at 0x000001DBE4538B08>]\n",
      "[<enemy.enemies2.Enemy object at 0x000001DBE4538BC8>, <enemy.enemies2.Enemy object at 0x000001DBE4538B08>]\n",
      "[<enemy.enemies2.Enemy object at 0x000001DBE4538BC8>, <enemy.enemies2.Enemy object at 0x000001DBE4538A48>]\n",
      "[<enemy.enemies2.Enemy object at 0x000001DBE4538A48>, <enemy.enemies2.Enemy object at 0x000001DBE4538988>]\n",
      "[<enemy.enemies2.Enemy object at 0x000001DBE4538988>, <enemy.enemies2.Enemy object at 0x000001DBE45388C8>, <enemy.enemies2.Enemy object at 0x000001DBE4538808>]\n",
      "[<enemy.enemies2.Enemy object at 0x000001DBE45388C8>, <enemy.enemies2.Enemy object at 0x000001DBE4538808>]\n"
     ]
    },
    {
     "ename": "SystemExit",
     "evalue": "",
     "output_type": "error",
     "traceback": [
      "An exception has occurred, use %tb to see the full traceback.\n",
      "\u001b[1;31mSystemExit\u001b[0m\n"
     ]
    },
    {
     "name": "stderr",
     "output_type": "stream",
     "text": [
      "D:\\Anaconda\\envs\\gpu\\lib\\site-packages\\IPython\\core\\interactiveshell.py:3465: UserWarning: To exit: use 'exit', 'quit', or Ctrl-D.\n",
      "  warn(\"To exit: use 'exit', 'quit', or Ctrl-D.\", stacklevel=1)\n"
     ]
    }
   ],
   "source": [
    "import pygame\n",
    "from start_menu import StartMenu\n",
    "\n",
    "\n",
    "if __name__ == '__main__':\n",
    "    pygame.init()\n",
    "    m = StartMenu()\n",
    "    m.menu_run()"
   ]
  },
  {
   "cell_type": "code",
   "execution_count": null,
   "metadata": {},
   "outputs": [],
   "source": []
  }
 ],
 "metadata": {
  "kernelspec": {
   "display_name": "Python 3 (ipykernel)",
   "language": "python",
   "name": "python3"
  },
  "language_info": {
   "codemirror_mode": {
    "name": "ipython",
    "version": 3
   },
   "file_extension": ".py",
   "mimetype": "text/x-python",
   "name": "python",
   "nbconvert_exporter": "python",
   "pygments_lexer": "ipython3",
   "version": "3.7.11"
  }
 },
 "nbformat": 4,
 "nbformat_minor": 4
}
